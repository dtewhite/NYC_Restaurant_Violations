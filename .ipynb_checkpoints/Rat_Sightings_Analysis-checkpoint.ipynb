{
 "cells": [
  {
   "cell_type": "code",
   "execution_count": 1,
   "metadata": {},
   "outputs": [],
   "source": [
    "import pandas as pd"
   ]
  },
  {
   "cell_type": "code",
   "execution_count": null,
   "metadata": {},
   "outputs": [],
   "source": [
    "# read rat sightings raw csv file\n",
    "\n",
    "rat_sightings_df = pd.read_csv(\"Data/Rat_Sightings/Rat_Sightings.csv\")\n",
    "rat_sightings_df"
   ]
  },
  {
   "cell_type": "code",
   "execution_count": null,
   "metadata": {
    "scrolled": true
   },
   "outputs": [],
   "source": [
    "# Data munging and cleaning to get rat count by zip code\n",
    "\n",
    "rat_sightings_by_zip = rat_sightings_df.groupby(\"Incident Zip\").count()\n",
    "rat_sightings_by_zip = rat_sightings_by_zip[[\"Unique Key\"]]\n",
    "rat_sightings_by_zip = rat_sightings_by_zip.rename(columns ={\"Unique Key\":\"Rat Sightings\"})\n",
    "\n",
    "# We droppped a few zip codes that were not eligible\n",
    "\n",
    "rat_sightings_by_zip = rat_sightings_by_zip.loc[rat_sightings_by_zip.index != 83.0,:]\n",
    "rat_sightings_by_zip = rat_sightings_by_zip.loc[rat_sightings_by_zip.index != 1123.0,:]\n",
    "rat_sightings_by_zip = rat_sightings_by_zip.loc[rat_sightings_by_zip.index != 100354.0,:]\n",
    "rat_sightings_by_zip = rat_sightings_by_zip.reset_index()\n",
    "\n",
    "# export as a csv file\n",
    "\n",
    "rat_sightings_by_zip.to_csv(\"Data/Rat_Sightings.csv\", index=False, header=True)"
   ]
  },
  {
   "cell_type": "code",
   "execution_count": null,
   "metadata": {},
   "outputs": [],
   "source": []
  }
 ],
 "metadata": {
  "kernelspec": {
   "display_name": "Python 3",
   "language": "python",
   "name": "python3"
  },
  "language_info": {
   "codemirror_mode": {
    "name": "ipython",
    "version": 3
   },
   "file_extension": ".py",
   "mimetype": "text/x-python",
   "name": "python",
   "nbconvert_exporter": "python",
   "pygments_lexer": "ipython3",
   "version": "3.6.9"
  }
 },
 "nbformat": 4,
 "nbformat_minor": 2
}
